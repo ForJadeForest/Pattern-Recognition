{
 "cells": [
  {
   "cell_type": "code",
   "execution_count": 1,
   "metadata": {
    "collapsed": true
   },
   "outputs": [],
   "source": [
    "import numpy as np\n",
    "from PCA import pca"
   ]
  },
  {
   "cell_type": "code",
   "execution_count": 2,
   "outputs": [],
   "source": [
    "error = np.random.normal(loc=0,scale=4,size=50)"
   ],
   "metadata": {
    "collapsed": false,
    "pycharm": {
     "name": "#%%\n"
    }
   }
  },
  {
   "cell_type": "code",
   "execution_count": 3,
   "outputs": [
    {
     "data": {
      "text/plain": "array([[  0.        , -19.65431924],\n       [  0.20408163, -23.29164179],\n       [  0.40816327, -17.74528433],\n       [  0.6122449 , -19.05825705],\n       [  0.81632653, -22.82401975],\n       [  1.02040816, -21.91865588],\n       [  1.2244898 , -19.28570582],\n       [  1.42857143, -23.29637136],\n       [  1.63265306, -20.08553533],\n       [  1.83673469, -27.42957598],\n       [  2.04081633, -22.62403268],\n       [  2.24489796, -14.4875181 ],\n       [  2.44897959, -30.09852243],\n       [  2.65306122, -27.55324972],\n       [  2.85714286, -31.4371255 ],\n       [  3.06122449, -27.45425325],\n       [  3.26530612, -24.04816759],\n       [  3.46938776, -31.04334283],\n       [  3.67346939, -30.68415857],\n       [  3.87755102, -27.16752937],\n       [  4.08163265, -20.60558264],\n       [  4.28571429, -26.74014692],\n       [  4.48979592, -33.32599817],\n       [  4.69387755, -27.01833249],\n       [  4.89795918, -32.43857162],\n       [  5.10204082, -27.68086854],\n       [  5.30612245, -27.76819439],\n       [  5.51020408, -31.569979  ],\n       [  5.71428571, -28.86071306],\n       [  5.91836735, -35.94094541],\n       [  6.12244898, -35.64753543],\n       [  6.32653061, -25.73849197],\n       [  6.53061224, -30.04415908],\n       [  6.73469388, -36.59243002],\n       [  6.93877551, -42.75385589],\n       [  7.14285714, -30.83369375],\n       [  7.34693878, -23.79011723],\n       [  7.55102041, -30.81585147],\n       [  7.75510204, -40.31507641],\n       [  7.95918367, -42.81968784],\n       [  8.16326531, -37.29107249],\n       [  8.36734694, -37.21296205],\n       [  8.57142857, -34.36506514],\n       [  8.7755102 , -35.52531452],\n       [  8.97959184, -41.41233031],\n       [  9.18367347, -42.55006361],\n       [  9.3877551 , -44.60600832],\n       [  9.59183673, -43.14895587],\n       [  9.79591837, -33.26851914],\n       [ 10.        , -36.69803395]])"
     },
     "execution_count": 3,
     "metadata": {},
     "output_type": "execute_result"
    }
   ],
   "source": [
    "x = np.linspace(start=0,stop=10,num=50,endpoint=True)\n",
    "y_1 = -2*x + error - 20\n",
    "data = np.vstack([x,y_1]).T\n",
    "data"
   ],
   "metadata": {
    "collapsed": false,
    "pycharm": {
     "name": "#%%\n"
    }
   }
  },
  {
   "cell_type": "code",
   "execution_count": 4,
   "outputs": [],
   "source": [
    "import matplotlib.pyplot as plt\n"
   ],
   "metadata": {
    "collapsed": false,
    "pycharm": {
     "name": "#%%\n"
    }
   }
  },
  {
   "cell_type": "code",
   "execution_count": 5,
   "outputs": [
    {
     "name": "stdout",
     "output_type": "stream",
     "text": [
      "[[ 433.67346939 -901.5531547 ]\n",
      " [-901.5531547  2783.26003879]]\n",
      "[ 127.6097885  3089.32371967] [[-0.9469213   0.32146548]\n",
      " [-0.32146548 -0.9469213 ]]\n"
     ]
    }
   ],
   "source": [
    "d,vec = pca(data,1)"
   ],
   "metadata": {
    "collapsed": false,
    "pycharm": {
     "name": "#%%\n"
    }
   }
  },
  {
   "cell_type": "code",
   "execution_count": 6,
   "outputs": [
    {
     "data": {
      "text/plain": "array([[-11.3767118 ,  -7.86684842, -13.05320722, -11.74432019,\n         -8.11283408,  -8.90453721, -11.33212851,  -7.46873869,\n        -10.44354251,  -3.4237088 ,  -7.9085749 , -15.54760865,\n         -0.69961097,  -3.04417871,   0.69915119,  -3.00671017,\n         -6.16640003,   0.5230856 ,   0.24857157,  -3.01579432,\n         -9.16383623,  -3.28928146,   3.01260656,  -2.89465122,\n          2.30349385,  -2.13607132,  -1.98777542,   1.6778206 ,\n         -0.82203582,   5.94799219,   5.73576124,  -3.58171786,\n          0.56101522,   6.82731765,  12.72730823,   1.50545802,\n         -5.0986494 ,   1.61977319,  10.6803968 ,  13.1176719 ,\n          7.94811348,   7.93975424,   5.3086252 ,   6.47289525,\n         12.11304109,  13.25599018,  15.26841321,  13.95430441,\n          4.66391364,   7.97699945]])"
     },
     "execution_count": 6,
     "metadata": {},
     "output_type": "execute_result"
    }
   ],
   "source": [
    "d"
   ],
   "metadata": {
    "collapsed": false,
    "pycharm": {
     "name": "#%%\n"
    }
   }
  },
  {
   "cell_type": "code",
   "execution_count": 7,
   "outputs": [
    {
     "data": {
      "text/plain": "array([[ 0.32146548],\n       [-0.9469213 ]])"
     },
     "execution_count": 7,
     "metadata": {},
     "output_type": "execute_result"
    }
   ],
   "source": [
    "vec"
   ],
   "metadata": {
    "collapsed": false,
    "pycharm": {
     "name": "#%%\n"
    }
   }
  },
  {
   "cell_type": "code",
   "execution_count": 8,
   "outputs": [
    {
     "data": {
      "text/plain": "-0.9469212981468687"
     },
     "execution_count": 8,
     "metadata": {},
     "output_type": "execute_result"
    }
   ],
   "source": [
    "vec[1][0]"
   ],
   "metadata": {
    "collapsed": false,
    "pycharm": {
     "name": "#%%\n"
    }
   }
  },
  {
   "cell_type": "code",
   "execution_count": 9,
   "outputs": [],
   "source": [
    "line = np.array([[vec[0][0]*data[i,0],vec[1][0]*data[i,1]]for i in range(data.shape[0])])"
   ],
   "metadata": {
    "collapsed": false,
    "pycharm": {
     "name": "#%%\n"
    }
   }
  },
  {
   "cell_type": "code",
   "execution_count": 10,
   "outputs": [
    {
     "data": {
      "text/plain": "array([[ 0.        , 18.61109349],\n       [ 0.0656052 , 22.05535168],\n       [ 0.1312104 , 16.80338768],\n       [ 0.1968156 , 18.0466695 ],\n       [ 0.2624208 , 21.61255041],\n       [ 0.328026  , 20.75524208],\n       [ 0.3936312 , 18.26204559],\n       [ 0.4592364 , 22.05983021],\n       [ 0.5248416 , 19.01942119],\n       [ 0.5904468 , 25.97364969],\n       [ 0.656052  , 21.4231784 ],\n       [ 0.7216572 , 13.71853944],\n       [ 0.7872624 , 28.50093193],\n       [ 0.8528676 , 26.09075899],\n       [ 0.9184728 , 29.76848369],\n       [ 0.984078  , 25.99701713],\n       [ 1.0496832 , 22.77172207],\n       [ 1.1152884 , 29.39560249],\n       [ 1.1808936 , 29.05548327],\n       [ 1.2464988 , 25.72551217],\n       [ 1.312104  , 19.51186506],\n       [ 1.3777092 , 25.32081464],\n       [ 1.4433144 , 31.55709745],\n       [ 1.5089196 , 25.58423447],\n       [ 1.5745248 , 30.71677434],\n       [ 1.64013   , 26.21160397],\n       [ 1.7057352 , 26.29429468],\n       [ 1.7713404 , 29.8942855 ],\n       [ 1.8369456 , 27.32882388],\n       [ 1.9025508 , 34.03324668],\n       [ 1.968156  , 33.75541053],\n       [ 2.0337612 , 24.37232623],\n       [ 2.0993664 , 28.44945412],\n       [ 2.1649716 , 34.65015134],\n       [ 2.2305768 , 40.48453672],\n       [ 2.296182  , 29.19708131],\n       [ 2.3617872 , 22.52736869],\n       [ 2.4273924 , 29.18018608],\n       [ 2.4929976 , 38.17520449],\n       [ 2.5586028 , 40.54687439],\n       [ 2.624208  , 35.31171077],\n       [ 2.6898132 , 35.23774633],\n       [ 2.7554184 , 32.54101209],\n       [ 2.8210236 , 33.63967694],\n       [ 2.8866288 , 39.21421758],\n       [ 2.952234  , 40.29156147],\n       [ 3.0178392 , 42.23837931],\n       [ 3.0834444 , 40.8586653 ],\n       [ 3.1490496 , 31.50266934],\n       [ 3.2146548 , 34.75014995]])"
     },
     "execution_count": 10,
     "metadata": {},
     "output_type": "execute_result"
    }
   ],
   "source": [
    "line"
   ],
   "metadata": {
    "collapsed": false,
    "pycharm": {
     "name": "#%%\n"
    }
   }
  },
  {
   "cell_type": "code",
   "execution_count": 11,
   "outputs": [
    {
     "data": {
      "text/plain": "array([[  0.        , -19.65431924],\n       [  0.20408163, -23.29164179],\n       [  0.40816327, -17.74528433],\n       [  0.6122449 , -19.05825705],\n       [  0.81632653, -22.82401975],\n       [  1.02040816, -21.91865588],\n       [  1.2244898 , -19.28570582],\n       [  1.42857143, -23.29637136],\n       [  1.63265306, -20.08553533],\n       [  1.83673469, -27.42957598],\n       [  2.04081633, -22.62403268],\n       [  2.24489796, -14.4875181 ],\n       [  2.44897959, -30.09852243],\n       [  2.65306122, -27.55324972],\n       [  2.85714286, -31.4371255 ],\n       [  3.06122449, -27.45425325],\n       [  3.26530612, -24.04816759],\n       [  3.46938776, -31.04334283],\n       [  3.67346939, -30.68415857],\n       [  3.87755102, -27.16752937],\n       [  4.08163265, -20.60558264],\n       [  4.28571429, -26.74014692],\n       [  4.48979592, -33.32599817],\n       [  4.69387755, -27.01833249],\n       [  4.89795918, -32.43857162],\n       [  5.10204082, -27.68086854],\n       [  5.30612245, -27.76819439],\n       [  5.51020408, -31.569979  ],\n       [  5.71428571, -28.86071306],\n       [  5.91836735, -35.94094541],\n       [  6.12244898, -35.64753543],\n       [  6.32653061, -25.73849197],\n       [  6.53061224, -30.04415908],\n       [  6.73469388, -36.59243002],\n       [  6.93877551, -42.75385589],\n       [  7.14285714, -30.83369375],\n       [  7.34693878, -23.79011723],\n       [  7.55102041, -30.81585147],\n       [  7.75510204, -40.31507641],\n       [  7.95918367, -42.81968784],\n       [  8.16326531, -37.29107249],\n       [  8.36734694, -37.21296205],\n       [  8.57142857, -34.36506514],\n       [  8.7755102 , -35.52531452],\n       [  8.97959184, -41.41233031],\n       [  9.18367347, -42.55006361],\n       [  9.3877551 , -44.60600832],\n       [  9.59183673, -43.14895587],\n       [  9.79591837, -33.26851914],\n       [ 10.        , -36.69803395]])"
     },
     "execution_count": 11,
     "metadata": {},
     "output_type": "execute_result"
    }
   ],
   "source": [
    "\n",
    "data"
   ],
   "metadata": {
    "collapsed": false,
    "pycharm": {
     "name": "#%%\n"
    }
   }
  },
  {
   "cell_type": "code",
   "execution_count": 12,
   "outputs": [
    {
     "data": {
      "text/plain": "array([-3.        , -2.93939394, -2.87878788, -2.81818182, -2.75757576,\n       -2.6969697 , -2.63636364, -2.57575758, -2.51515152, -2.45454545,\n       -2.39393939, -2.33333333, -2.27272727, -2.21212121, -2.15151515,\n       -2.09090909, -2.03030303, -1.96969697, -1.90909091, -1.84848485,\n       -1.78787879, -1.72727273, -1.66666667, -1.60606061, -1.54545455,\n       -1.48484848, -1.42424242, -1.36363636, -1.3030303 , -1.24242424,\n       -1.18181818, -1.12121212, -1.06060606, -1.        , -0.93939394,\n       -0.87878788, -0.81818182, -0.75757576, -0.6969697 , -0.63636364,\n       -0.57575758, -0.51515152, -0.45454545, -0.39393939, -0.33333333,\n       -0.27272727, -0.21212121, -0.15151515, -0.09090909, -0.03030303,\n        0.03030303,  0.09090909,  0.15151515,  0.21212121,  0.27272727,\n        0.33333333,  0.39393939,  0.45454545,  0.51515152,  0.57575758,\n        0.63636364,  0.6969697 ,  0.75757576,  0.81818182,  0.87878788,\n        0.93939394,  1.        ,  1.06060606,  1.12121212,  1.18181818,\n        1.24242424,  1.3030303 ,  1.36363636,  1.42424242,  1.48484848,\n        1.54545455,  1.60606061,  1.66666667,  1.72727273,  1.78787879,\n        1.84848485,  1.90909091,  1.96969697,  2.03030303,  2.09090909,\n        2.15151515,  2.21212121,  2.27272727,  2.33333333,  2.39393939,\n        2.45454545,  2.51515152,  2.57575758,  2.63636364,  2.6969697 ,\n        2.75757576,  2.81818182,  2.87878788,  2.93939394,  3.        ])"
     },
     "execution_count": 12,
     "metadata": {},
     "output_type": "execute_result"
    }
   ],
   "source": [
    "\n",
    "x = np.linspace(-3,3,100)\n",
    "x"
   ],
   "metadata": {
    "collapsed": false,
    "pycharm": {
     "name": "#%%\n"
    }
   }
  },
  {
   "cell_type": "code",
   "execution_count": 13,
   "outputs": [],
   "source": [
    "y = vec[1][0]/vec[0][0]*x - 20"
   ],
   "metadata": {
    "collapsed": false,
    "pycharm": {
     "name": "#%%\n"
    }
   }
  },
  {
   "cell_type": "code",
   "execution_count": 14,
   "outputs": [
    {
     "data": {
      "text/plain": "<Figure size 432x288 with 1 Axes>",
      "image/png": "[encoded data removed]"
     },
     "metadata": {
      "needs_background": "light"
     },
     "output_type": "display_data"
    }
   ],
   "source": [
    "plt.figure()\n",
    "plt.scatter(data[:,0],data[:,1])\n",
    "plt.scatter(line[:,0],line[:,1])\n",
    "plt.plot(x,y)\n",
    "plt.show()\n"
   ],
   "metadata": {
    "collapsed": false,
    "pycharm": {
     "name": "#%%\n"
    }
   }
  },
  {
   "cell_type": "code",
   "execution_count": 15,
   "outputs": [
    {
     "data": {
      "text/plain": "array([[-16.08910013, -11.12540373, -18.46002268, -16.6089769 ,\n        -11.47327999, -12.59291729, -16.02604983, -10.56239154,\n        -14.76939945,  -4.84185543, -11.18441388, -21.98763902,\n         -0.98939932,  -4.30511881,   0.9887491 ,  -4.2521303 ,\n         -8.72060655,   0.73975475,   0.35153329,  -4.26497723,\n        -12.95962148,  -4.65174645,   4.26046905,  -4.09365501,\n          3.25763224,  -3.02086104,  -2.81113896,   2.37279665,\n         -1.1625342 ,   8.41173122,   8.11159133,  -5.06531398,\n          0.79339534,   9.65528521,  17.99913191,   2.12903915,\n         -7.21057914,   2.29070521,  15.104362  ,  18.55118951,\n         11.24032987,  11.22850812,   7.50752975,   9.15405625,\n         17.13042699,  18.74680109,  21.59279704,  19.73436655,\n          6.59576993,  11.28118082]])"
     },
     "execution_count": 15,
     "metadata": {},
     "output_type": "execute_result"
    }
   ],
   "source": [
    "d * np.sqrt([2])"
   ],
   "metadata": {
    "collapsed": false,
    "pycharm": {
     "name": "#%%\n"
    }
   }
  },
  {
   "cell_type": "code",
   "execution_count": 16,
   "outputs": [],
   "source": [
    "data = np.array([[2,2,6],\n",
    "                 [5,3,8],\n",
    "                 [2,4,10]])\n"
   ],
   "metadata": {
    "collapsed": false,
    "pycharm": {
     "name": "#%%\n"
    }
   }
  },
  {
   "cell_type": "code",
   "execution_count": 17,
   "outputs": [
    {
     "name": "stdout",
     "output_type": "stream",
     "text": [
      "[[6. 0. 0.]\n",
      " [0. 2. 4.]\n",
      " [0. 4. 8.]]\n",
      "[10.  0.  6.] [[ 0.          0.          1.        ]\n",
      " [ 0.4472136   0.89442719  0.        ]\n",
      " [ 0.89442719 -0.4472136   0.        ]]\n"
     ]
    },
    {
     "data": {
      "text/plain": "(array([[-2.23606798,  0.        ,  2.23606798]]),\n array([[0.        ],\n        [0.4472136 ],\n        [0.89442719]]))"
     },
     "execution_count": 17,
     "metadata": {},
     "output_type": "execute_result"
    }
   ],
   "source": [
    "pca(data,1)"
   ],
   "metadata": {
    "collapsed": false,
    "pycharm": {
     "name": "#%%\n"
    }
   }
  },
  {
   "cell_type": "code",
   "execution_count": null,
   "outputs": [],
   "source": [],
   "metadata": {
    "collapsed": false,
    "pycharm": {
     "name": "#%%\n"
    }
   }
  }
 ],
 "metadata": {
  "kernelspec": {
   "display_name": "Python 3",
   "language": "python",
   "name": "python3"
  },
  "language_info": {
   "codemirror_mode": {
    "name": "ipython",
    "version": 2
   },
   "file_extension": ".py",
   "mimetype": "text/x-python",
   "name": "python",
   "nbconvert_exporter": "python",
   "pygments_lexer": "ipython2",
   "version": "2.7.6"
  }
 },
 "nbformat": 4,
 "nbformat_minor": 0
}